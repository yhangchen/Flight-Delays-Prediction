{
 "cells": [
  {
   "attachments": {},
   "cell_type": "markdown",
   "metadata": {},
   "source": [
    "### Load Data & Preprocessing"
   ]
  },
  {
   "cell_type": "code",
   "execution_count": null,
   "metadata": {},
   "outputs": [],
   "source": [
    "import sklearn\n",
    "import pandas as pd\n",
    "import numpy as np\n",
    "import matplotlib.pyplot as plt\n",
    "import seaborn as sns\n",
    "from sklearn import linear_model, model_selection, metrics, neural_network, preprocessing\n",
    "import warnings\n",
    "warnings.filterwarnings('ignore')\n",
    "\n",
    "path_airlines = \"./datasets/airlines.csv\"\n",
    "path_airport = \"./datasets/airports.csv\"\n",
    "path_flights = \"./datasets/flights.csv\"\n",
    "\n",
    "df_airlines = pd.read_csv(path_airlines, low_memory=False)\n",
    "df_airport = pd.read_csv(path_airport, low_memory=False)\n",
    "df_flights = pd.read_csv(path_flights, low_memory=False)"
   ]
  },
  {
   "cell_type": "code",
   "execution_count": null,
   "metadata": {},
   "outputs": [],
   "source": [
    "delay_details = ['AIR_SYSTEM_DELAY', 'SECURITY_DELAY', 'AIRLINE_DELAY', 'LATE_AIRCRAFT_DELAY', 'WEATHER_DELAY']\n",
    "columns_categorical = ['MONTH', 'DAY_OF_WEEK', 'AIRLINE', 'ORIGIN_AIRPORT', 'DESTINATION_AIRPORT']\n",
    "columns_numerical = ['SCHEDULED_DEPARTURE', 'DEPARTURE_DELAY', 'SCHEDULED_TIME', 'ARRIVAL_DELAY']\n"
   ]
  },
  {
   "attachments": {},
   "cell_type": "markdown",
   "metadata": {},
   "source": [
    "Given the information before the flight, we want to predict (1) whether it is delayed at arrival (>15min) (2) how long it is delayed. "
   ]
  },
  {
   "attachments": {},
   "cell_type": "markdown",
   "metadata": {},
   "source": [
    "### Classification\n",
    "In this part, we use some flight information to predict the flight arrival delay, i.e.\n",
    "'MONTH', 'DAY_OF_WEEK', 'AIRLINE', 'ORIGIN_AIRPORT', 'DESTINATION_AIRPORT', 'SCHEDULED_DEPARTURE', 'DEPARTURE_DELAY', 'SCHEDULED_TIME' to predict if\n",
    "'ARRIVAL_DELAY' > 15\n",
    "\n",
    "Here, we cannot include `delay details` column, otherwise the accuracy can easily reach 1.00 by the baseline logistic model. "
   ]
  },
  {
   "cell_type": "code",
   "execution_count": null,
   "metadata": {},
   "outputs": [],
   "source": [
    "# only consider delayed variable\n",
    "df_flights_cal = df_flights.sample(100000)\n",
    "\n",
    "df_flights_cal[delay_details] = df_flights_cal[delay_details].fillna(0)\n",
    "# empty those row with >10% missing values\n",
    "missing_columns = df_flights_cal.loc[:, df_flights_cal.isna().mean() >= 0.1].columns\n",
    "df_flights_cal = df_flights_cal.drop(missing_columns, axis=1)\n",
    "df_flights_cal.dropna(inplace=True)\n",
    "\n",
    "# discard cancelled or diverted flights.\n",
    "df_flights_cal = df_flights_cal[df_flights_cal['CANCELLED'] != 1]\n",
    "df_flights_cal = df_flights_cal[df_flights_cal['DIVERTED'] != 1]\n",
    "\n",
    "# transform df_airlines to dict\n",
    "dict_airlines = df_airlines.set_index('IATA_CODE')['AIRLINE'].to_dict()\n",
    "\n",
    "# For those airline origin/dest airport not in IATA code, we replace them with 'OTHERS'\n",
    "df_flights_cal.loc[~df_flights_cal['AIRLINE'].isin(df_airlines['IATA_CODE'].values),'AIRLINE']='OTHERS'\n",
    "df_flights_cal.loc[~df_flights_cal['ORIGIN_AIRPORT'].isin(df_airport['IATA_CODE'].values),'ORIGIN_AIRPORT']='OTHERS'\n",
    "df_flights_cal.loc[~df_flights_cal['DESTINATION_AIRPORT'].isin(df_airport['IATA_CODE'].values),'DESTINATION_AIRPORT']='OTHERS'\n",
    "\n",
    "# transform HHMM into minutes.\n",
    "def mintues(formatted_time):\n",
    "    if formatted_time == 2400:\n",
    "        formatted_time = 0\n",
    "    formatted_time = \"{0:04d}\".format(int(formatted_time))\n",
    "    return int(formatted_time[0:2])*60+int(formatted_time[2:4])\n",
    "df_flights_cal['SCHEDULED_DEPARTURE'] = df_flights_cal['SCHEDULED_DEPARTURE'].apply(mintues)\n",
    "df_flights_cal['SCHEDULED_ARRIVAL'] = df_flights_cal['SCHEDULED_ARRIVAL'].apply(mintues)\n",
    "\n",
    "# Keeping those item (see eda.ipynb for reason)\n",
    "df_flights_cal_keep = df_flights_cal[columns_categorical + columns_numerical].copy()\n",
    "\n",
    "delay = []\n",
    "for row in df_flights_cal_keep['ARRIVAL_DELAY']:\n",
    "    if row > 15:\n",
    "        delay.append(1)\n",
    "    else:\n",
    "        delay.append(0)  \n",
    "df_flights_cal_keep['IS_DELAY'] = delay\n",
    "sns.heatmap(df_flights_cal_keep.corr())\n",
    "\n",
    "# convert categorical to onehot\n",
    "df_flights_cal_dummies = pd.get_dummies(df_flights_cal_keep[columns_categorical].astype(str))\n",
    "df_flights_cal_keep = df_flights_cal_keep.drop(columns_categorical, axis=1)\n",
    "df_flights_cal_keep=pd.concat([df_flights_cal_keep,df_flights_cal_dummies],axis=1)\n",
    "df_flights_cal_keep.shape"
   ]
  },
  {
   "cell_type": "code",
   "execution_count": null,
   "metadata": {},
   "outputs": [],
   "source": [
    "df_flights_cal_keep['IS_DELAY'].value_counts()"
   ]
  },
  {
   "attachments": {},
   "cell_type": "markdown",
   "metadata": {},
   "source": [
    "The dataset is unbalanced. We create and balance the training dataset in the following. We keep the test dataset untouched, since we wouldn't have access to the target variable to perform resampling. "
   ]
  },
  {
   "cell_type": "code",
   "execution_count": null,
   "metadata": {},
   "outputs": [],
   "source": [
    "from sklearn.utils import resample\n",
    "from sklearn.preprocessing import MinMaxScaler\n",
    "scaler = MinMaxScaler()\n",
    "\n",
    "X_imbalanced = df_flights_cal_keep.drop(['ARRIVAL_DELAY', 'IS_DELAY'],axis=1)\n",
    "X_imbalanced_columns = X_imbalanced.columns\n",
    "X_imbalanced = scaler.fit_transform(X_imbalanced)\n",
    "y_imbalanced = df_flights_cal_keep['IS_DELAY']\n",
    "X_train_imbalanced, X_test, y_train_imbalanced, y_test = model_selection.train_test_split(X_imbalanced, y_imbalanced, test_size=0.2, random_state=0)\n",
    "\n",
    "X_train_oversampled, y_train_oversampled = resample(X_train_imbalanced[y_train_imbalanced == 1], y_train_imbalanced[y_train_imbalanced == 1], replace=True, \n",
    "                                                    n_samples=X_train_imbalanced[y_train_imbalanced == 0].shape[0],random_state=0)\n",
    "X_train = np.vstack((X_train_imbalanced[y_train_imbalanced == 0].copy(), X_train_oversampled))\n",
    "y_train = np.hstack((y_train_imbalanced[y_train_imbalanced == 0].copy(), y_train_oversampled))\n",
    "X_train = pd.DataFrame(X_train, columns=X_imbalanced_columns)\n"
   ]
  },
  {
   "cell_type": "code",
   "execution_count": null,
   "metadata": {},
   "outputs": [],
   "source": [
    "from sklearn.linear_model import LogisticRegression\n",
    "logit = LogisticRegression().fit(X_train, y_train)\n",
    "y_pred = logit.predict(X_test)\n",
    "print(metrics.classification_report(y_test, y_pred, target_names=[\"NOT DELAYED\", \"DELAYED\"]))\n",
    "disp_logit = metrics.PrecisionRecallDisplay.from_estimator(logit, X_test, y_test, name=\"Logistic Regression\")\n"
   ]
  },
  {
   "cell_type": "code",
   "execution_count": null,
   "metadata": {},
   "outputs": [],
   "source": [
    "# Decision Tree\n",
    "from sklearn.tree import DecisionTreeClassifier\n",
    "dt = DecisionTreeClassifier(max_depth=100).fit(X_train, y_train)\n",
    "y_pred = dt.predict(X_test)\n",
    "print(metrics.classification_report(y_test, y_pred, target_names=[\"NOT DELAYED\", \"DELAYED\"]))\n",
    "disp_dt = metrics.PrecisionRecallDisplay.from_estimator(dt, X_test, y_test, name=\"Decision Tree\")"
   ]
  },
  {
   "cell_type": "code",
   "execution_count": null,
   "metadata": {},
   "outputs": [],
   "source": [
    "# Random Forest\n",
    "from sklearn.ensemble import RandomForestClassifier\n",
    "rf = RandomForestClassifier().fit(X_train, y_train)\n",
    "y_pred = rf.predict(X_test)\n",
    "print(metrics.classification_report(y_test, y_pred, target_names=[\"NOT DELAYED\", \"DELAYED\"]))\n",
    "disp_rf = metrics.PrecisionRecallDisplay.from_estimator(rf, X_test, y_test, name=\"Random Forest\")"
   ]
  },
  {
   "cell_type": "code",
   "execution_count": null,
   "metadata": {},
   "outputs": [],
   "source": [
    "# MLP\n",
    "from sklearn.neural_network import MLPClassifier\n",
    "mlp = MLPClassifier().fit(X_train, y_train)\n",
    "y_pred = mlp.predict(X_test)\n",
    "print(metrics.classification_report(y_test, y_pred, target_names=[\"NOT DELAYED\", \"DELAYED\"]))\n",
    "disp_mlp = metrics.PrecisionRecallDisplay.from_estimator(mlp, X_test, y_test, name=\"MLP classifier\")"
   ]
  },
  {
   "cell_type": "code",
   "execution_count": null,
   "metadata": {},
   "outputs": [],
   "source": [
    "fig, ax = plt.subplots()\n",
    "disp_rf.plot(ax=ax, label='RandomForest')\n",
    "disp_logit.plot(ax=ax, label='Logistic Regression')\n",
    "disp_dt.plot(ax=ax, label='Decision Tree')\n"
   ]
  },
  {
   "attachments": {},
   "cell_type": "markdown",
   "metadata": {},
   "source": [
    "We find that logistic regression is the best algorithm. Then, we analyze the effect of airport and airline. "
   ]
  },
  {
   "cell_type": "code",
   "execution_count": null,
   "metadata": {},
   "outputs": [],
   "source": [
    "logit_feature_dict = dict(zip(logit.feature_names_in_.tolist(), logit.coef_[0].tolist()))"
   ]
  },
  {
   "cell_type": "code",
   "execution_count": null,
   "metadata": {},
   "outputs": [],
   "source": [
    "airline_keys = [(x, np.exp(logit_feature_dict[x])) for x in logit_feature_dict.keys() if 'AIRLINE' in x]\n",
    "airline_keys.sort(key=lambda x: x[1])"
   ]
  },
  {
   "cell_type": "code",
   "execution_count": null,
   "metadata": {},
   "outputs": [],
   "source": [
    "airline_keys"
   ]
  },
  {
   "cell_type": "code",
   "execution_count": null,
   "metadata": {},
   "outputs": [],
   "source": [
    "origin_airport_keys = [(x, np.exp(logit_feature_dict[x])) for x in logit_feature_dict.keys() if 'ORIGIN_AIRPORT' in x]\n",
    "origin_airport_keys.sort(key=lambda x: x[1])"
   ]
  },
  {
   "cell_type": "code",
   "execution_count": null,
   "metadata": {},
   "outputs": [],
   "source": [
    "origin_airport_keys[-10:]"
   ]
  },
  {
   "cell_type": "code",
   "execution_count": null,
   "metadata": {},
   "outputs": [],
   "source": [
    "logit_feature_dict"
   ]
  },
  {
   "attachments": {},
   "cell_type": "markdown",
   "metadata": {},
   "source": [
    "### Regression\n",
    "In this part, we use some delayed flight information to predict the exact value of flight delay, i.e.\n",
    "'MONTH', 'DAY_OF_WEEK', 'AIRLINE', 'ORIGIN_AIRPORT', 'DESTINATION_AIRPORT', 'SCHEDULED_DEPARTURE', 'DEPARTURE_DELAY', 'SCHEDULED_TIME',\n",
    "as well as flight `delay details`, i.e. 'AIR_SYSTEM_DELAY', 'SECURITY_DELAY', 'AIRLINE_DELAY', 'LATE_AIRCRAFT_DELAY', 'WEATHER_DELAY'\n",
    " to predict the value of flight delay. "
   ]
  },
  {
   "cell_type": "code",
   "execution_count": null,
   "metadata": {},
   "outputs": [],
   "source": [
    "# only consider delayed variable\n",
    "df_flights_reg = df_flights.sample(100000)\n",
    "\n",
    "df_flights_reg[delay_details] = df_flights_reg[delay_details].fillna(0)\n",
    "# empty those column with >10% missing values\n",
    "missing_columns = df_flights_reg.loc[:, df_flights_reg.isna().mean() >= 0.1].columns\n",
    "df_flights_reg = df_flights_reg.drop(missing_columns, axis=1)\n",
    "df_flights_reg.dropna(inplace=True)\n",
    "# discard cancelled or diverted flights.\n",
    "df_flights_reg = df_flights_reg[df_flights_reg['CANCELLED'] != 1]\n",
    "df_flights_reg = df_flights_reg[df_flights_reg['DIVERTED'] != 1]\n",
    "\n",
    "# transform df_airlines to dict\n",
    "dict_airlines = df_airlines.set_index('IATA_CODE')['AIRLINE'].to_dict()\n",
    "\n",
    "# For those airline origin/dest airport not in IATA code, we replace them with 'OTHERS'\n",
    "df_flights_reg.loc[~df_flights_reg['AIRLINE'].isin(df_airlines['IATA_CODE'].values),'AIRLINE']='OTHERS'\n",
    "df_flights_reg.loc[~df_flights_reg['ORIGIN_AIRPORT'].isin(df_airport['IATA_CODE'].values),'ORIGIN_AIRPORT']='OTHERS'\n",
    "df_flights_reg.loc[~df_flights_reg['DESTINATION_AIRPORT'].isin(df_airport['IATA_CODE'].values),'DESTINATION_AIRPORT']='OTHERS'\n",
    "\n",
    "# transform HHMM into minutes.\n",
    "def mintues(formatted_time):\n",
    "    if formatted_time == 2400:\n",
    "        formatted_time = 0\n",
    "    formatted_time = \"{0:04d}\".format(int(formatted_time))\n",
    "    return int(formatted_time[0:2])*60+int(formatted_time[2:4])\n",
    "df_flights_reg['SCHEDULED_DEPARTURE'] = df_flights_reg['SCHEDULED_DEPARTURE'].apply(mintues)\n",
    "df_flights_reg['SCHEDULED_ARRIVAL'] = df_flights_reg['SCHEDULED_ARRIVAL'].apply(mintues)\n",
    "\n",
    "# Keeping those item (see eda.ipynb for reason)\n",
    "df_flights_reg_keep = df_flights_reg[columns_categorical + columns_numerical + delay_details].copy()\n",
    "\n",
    "# # convert categorical to onehot\n",
    "df_flights_reg_dummies = pd.get_dummies(df_flights_reg_keep[columns_categorical].astype(str))\n",
    "df_flights_reg_keep = df_flights_reg_keep.drop(columns_categorical, axis=1)\n",
    "df_flights_reg_keep=pd.concat([df_flights_reg_keep,df_flights_reg_dummies],axis=1)\n",
    "df_flights_reg_keep.shape"
   ]
  },
  {
   "cell_type": "code",
   "execution_count": null,
   "metadata": {},
   "outputs": [],
   "source": [
    "# prepare dataset and test variable\n",
    "def all_test_regression(model, X_test, y_test):\n",
    "    pred = model.predict(X_test)\n",
    "    print(\"R^2: \", model.score(X_test, y_test))\n",
    "    print(\"RMSD: \", metrics.mean_squared_error(pred, y_test, squared=False))\n",
    "\n",
    "\n",
    "X = df_flights_cal_keep.drop(['ARRIVAL_DELAY'],axis=1)\n",
    "Y = df_flights_cal_keep['ARRIVAL_DELAY']\n",
    "X_train, X_test, y_train, y_test = model_selection.train_test_split(X, Y, test_size=0.2, random_state=0)"
   ]
  },
  {
   "attachments": {},
   "cell_type": "markdown",
   "metadata": {},
   "source": [
    "#### Linear Model"
   ]
  },
  {
   "cell_type": "code",
   "execution_count": null,
   "metadata": {},
   "outputs": [],
   "source": [
    "from sklearn import linear_model\n",
    "lm = linear_model.LinearRegression().fit(X_train, y_train)\n",
    "all_test_regression(lm, X_test, y_test)"
   ]
  },
  {
   "cell_type": "code",
   "execution_count": null,
   "metadata": {},
   "outputs": [],
   "source": [
    "from sklearn.tree import DecisionTreeRegressor\n",
    "dt = DecisionTreeRegressor().fit(X_train, y_train)\n",
    "all_test_regression(dt, X_test, y_test)"
   ]
  },
  {
   "cell_type": "code",
   "execution_count": null,
   "metadata": {},
   "outputs": [],
   "source": [
    "from sklearn.ensemble import RandomForestRegressor\n",
    "rf = RandomForestRegressor().fit(X_train, y_train)\n",
    "all_test_regression(rf, X_test, y_test)"
   ]
  }
 ],
 "metadata": {
  "kernelspec": {
   "display_name": "base",
   "language": "python",
   "name": "python3"
  },
  "language_info": {
   "codemirror_mode": {
    "name": "ipython",
    "version": 3
   },
   "file_extension": ".py",
   "mimetype": "text/x-python",
   "name": "python",
   "nbconvert_exporter": "python",
   "pygments_lexer": "ipython3",
   "version": "3.10.9"
  },
  "orig_nbformat": 4
 },
 "nbformat": 4,
 "nbformat_minor": 2
}
